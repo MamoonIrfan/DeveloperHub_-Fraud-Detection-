{
 "cells": [
  {
   "cell_type": "markdown",
   "id": "6d9881ed",
   "metadata": {},
   "source": [
    "Task 3: Fraud Detection (Optional)\n",
    "----------------------------------\n",
    "Description:\n",
    " Detect fraudulent transactions using a small dataset with simple models.\n",
    "\n",
    "Steps:\n",
    "1. Data Preprocessing: Use undersampling to handle imbalanced data.\n",
    "2. Model Training: Train a Random Forest model to classify transactions.\n",
    "3. Model Evaluation: Check the model's accuracy.\n",
    "\n",
    "Outcome:\n",
    "A Python script that predicts whether a transaction is fraudulent or not.\n"
   ]
  },
  {
   "cell_type": "markdown",
   "id": "726a942a",
   "metadata": {},
   "source": [
    "Steps 1: Data Preprocessing: Use undersampling to handle imbalanced data."
   ]
  },
  {
   "cell_type": "code",
   "execution_count": 19,
   "id": "cd1e4051",
   "metadata": {},
   "outputs": [
    {
     "name": "stdout",
     "output_type": "stream",
     "text": [
      "Shape before preprocessing: (284807, 31)\n",
      "Fraud counts:\n",
      " Class\n",
      "0    284315\n",
      "1       492\n",
      "Name: count, dtype: int64\n",
      "Shape after undersampling: (984, 30)\n",
      "Balanced fraud counts:\n",
      " Class\n",
      "0    492\n",
      "1    492\n",
      "Name: count, dtype: int64\n",
      "Training set: (688, 29) Testing set: (296, 29)\n"
     ]
    }
   ],
   "source": [
    "import pandas as pd\n",
    "import numpy as np\n",
    "from sklearn.model_selection import train_test_split\n",
    "from sklearn.preprocessing import StandardScaler\n",
    "\n",
    "# 1. Load dataset\n",
    "df = pd.read_csv(\"creditcard.csv\")\n",
    "\n",
    "# 2. Basic info\n",
    "print(\"Shape before preprocessing:\", df.shape)\n",
    "print(\"Fraud counts:\\n\", df['Class'].value_counts())\n",
    "\n",
    "# 3. Drop useless column\n",
    "if 'Time' in df.columns:\n",
    "    df = df.drop(columns=['Time'])\n",
    "\n",
    "# 4. Feature Scaling for 'Amount'\n",
    "scaler = StandardScaler()\n",
    "df['Amount'] = scaler.fit_transform(df[['Amount']])\n",
    "\n",
    "# 5. Handle imbalance with undersampling\n",
    "fraud = df[df['Class'] == 1]\n",
    "non_fraud = df[df['Class'] == 0].sample(n=len(fraud), random_state=42)\n",
    "\n",
    "balanced_df = pd.concat([fraud, non_fraud]).sample(frac=1, random_state=42).reset_index(drop=True)\n",
    "\n",
    "print(\"Shape after undersampling:\", balanced_df.shape)\n",
    "print(\"Balanced fraud counts:\\n\", balanced_df['Class'].value_counts())\n",
    "\n",
    "# 6. Train-test split\n",
    "X = balanced_df.drop(columns=['Class'])\n",
    "y = balanced_df['Class']\n",
    "\n",
    "X_train, X_test, y_train, y_test = train_test_split(\n",
    "    X, y, test_size=0.3, random_state=42, stratify=y\n",
    ")\n",
    "\n",
    "print(\"Training set:\", X_train.shape, \"Testing set:\", X_test.shape)\n"
   ]
  },
  {
   "cell_type": "markdown",
   "id": "e9fd92a4",
   "metadata": {},
   "source": [
    "Note:\n",
    "\n",
    "Loaded the dataset and separated features (X) from the target (y).\n",
    "\n",
    "Balanced the data by undersampling the majority (non-fraud) class.\n",
    "\n",
    "Split the data into training and testing sets (80/20)."
   ]
  },
  {
   "cell_type": "markdown",
   "id": "cf0b33cf",
   "metadata": {},
   "source": [
    "Step 2. Model Training: Train a Random Forest model to classify transactions.\n",
    "----------------------------------------------------------------------------"
   ]
  },
  {
   "cell_type": "code",
   "execution_count": 20,
   "id": "060ff5fd",
   "metadata": {},
   "outputs": [
    {
     "name": "stdout",
     "output_type": "stream",
     "text": [
      "Training Accuracy: 1.0\n",
      "Testing Accuracy: 0.9391891891891891\n",
      "\n",
      " Classification Report (Test Data):\n",
      "               precision    recall  f1-score   support\n",
      "\n",
      "           0       0.91      0.97      0.94       148\n",
      "           1       0.97      0.91      0.94       148\n",
      "\n",
      "    accuracy                           0.94       296\n",
      "   macro avg       0.94      0.94      0.94       296\n",
      "weighted avg       0.94      0.94      0.94       296\n",
      "\n",
      "\n",
      " Confusion Matrix (Test Data):\n",
      " [[144   4]\n",
      " [ 14 134]]\n"
     ]
    }
   ],
   "source": [
    "from sklearn.ensemble import RandomForestClassifier\n",
    "from sklearn.metrics import accuracy_score, classification_report, confusion_matrix\n",
    "\n",
    "# 1. Initialize Random Forest\n",
    "rf = RandomForestClassifier(\n",
    "    n_estimators=100,   # number of trees\n",
    "    random_state=42,\n",
    "    class_weight='balanced'  # imbalance handle (though dataset already balanced)\n",
    ")\n",
    "\n",
    "# 2. Train the model\n",
    "rf.fit(X_train, y_train)\n",
    "\n",
    "# 3. Predictions\n",
    "y_train_pred = rf.predict(X_train)\n",
    "y_test_pred = rf.predict(X_test)\n",
    "\n",
    "# 4. Evaluation\n",
    "print(\"Training Accuracy:\", accuracy_score(y_train, y_train_pred))\n",
    "print(\"Testing Accuracy:\", accuracy_score(y_test, y_test_pred))\n",
    "\n",
    "print(\"\\n Classification Report (Test Data):\\n\", classification_report(y_test, y_test_pred))\n",
    "\n",
    "print(\"\\n Confusion Matrix (Test Data):\\n\", confusion_matrix(y_test, y_test_pred))\n"
   ]
  },
  {
   "cell_type": "markdown",
   "id": "82832a14",
   "metadata": {},
   "source": [
    "Note:\n",
    "\n",
    "Used the Random Forest algorithm, which builds multiple decision trees.\n",
    "\n",
    "Trained (fit) the model on the training data.\n",
    "\n",
    "Generated predictions (y_test_pred) on the test data."
   ]
  },
  {
   "cell_type": "markdown",
   "id": "8eea2bcb",
   "metadata": {},
   "source": [
    "Step 3: Model Evaluation: Check the model's accuracy.\n",
    "------------------------------------------------------"
   ]
  },
  {
   "cell_type": "code",
   "execution_count": 21,
   "id": "b70c61d5",
   "metadata": {},
   "outputs": [
    {
     "name": "stdout",
     "output_type": "stream",
     "text": [
      "Test Accuracy: 0.9391891891891891\n",
      "\n",
      " Classification Report:\n",
      "               precision    recall  f1-score   support\n",
      "\n",
      "           0       0.91      0.97      0.94       148\n",
      "           1       0.97      0.91      0.94       148\n",
      "\n",
      "    accuracy                           0.94       296\n",
      "   macro avg       0.94      0.94      0.94       296\n",
      "weighted avg       0.94      0.94      0.94       296\n",
      "\n",
      "\n",
      " Confusion Matrix:\n",
      " [[144   4]\n",
      " [ 14 134]]\n",
      "\n",
      " ROC-AUC Score: 0.9780177136596055\n"
     ]
    },
    {
     "data": {
      "image/png": "[encoded data removed]",
      "text/plain": [
       "<Figure size 600x400 with 1 Axes>"
      ]
     },
     "metadata": {},
     "output_type": "display_data"
    }
   ],
   "source": [
    "import matplotlib.pyplot as plt\n",
    "from sklearn.metrics import roc_auc_score, roc_curve, accuracy_score, classification_report, confusion_matrix\n",
    "\n",
    "# 1. Accuracy\n",
    "test_accuracy = accuracy_score(y_test, y_test_pred)\n",
    "print(\"Test Accuracy:\", test_accuracy)\n",
    "\n",
    "# 2. Classification Report\n",
    "print(\"\\n Classification Report:\\n\", classification_report(y_test, y_test_pred))\n",
    "\n",
    "# 3. Confusion Matrix\n",
    "cm = confusion_matrix(y_test, y_test_pred)\n",
    "print(\"\\n Confusion Matrix:\\n\", cm)\n",
    "\n",
    "# 4. ROC-AUC Score\n",
    "y_test_prob = rf.predict_proba(X_test)[:,1]\n",
    "roc_auc = roc_auc_score(y_test, y_test_prob)\n",
    "print(\"\\n ROC-AUC Score:\", roc_auc)\n",
    "\n",
    "# 5. Plot ROC Curve\n",
    "fpr, tpr, _ = roc_curve(y_test, y_test_prob)\n",
    "\n",
    "plt.figure(figsize=(6,4))\n",
    "plt.plot(fpr, tpr, label=f'ROC Curve (AUC = {roc_auc:.2f})')\n",
    "plt.plot([0,1], [0,1], 'k--')  # baseline\n",
    "plt.xlabel(\"False Positive Rate\")\n",
    "plt.ylabel(\"True Positive Rate\")\n",
    "plt.title(\"ROC Curve - Random Forest\")\n",
    "plt.legend()\n",
    "plt.show()\n"
   ]
  },
  {
   "cell_type": "markdown",
   "id": "30e4d840",
   "metadata": {},
   "source": [
    "Note:\n",
    "\n",
    "Calculated accuracy to measure the percentage of correct predictions.\n",
    "\n",
    "Created a Confusion Matrix and Classification Report to analyze fraud detection.\n",
    "\n",
    "Plotted the ROC-AUC Curve to show how well the model distinguishes fraud vs. non-fraud."
   ]
  }
 ],
 "metadata": {
  "kernelspec": {
   "display_name": "base",
   "language": "python",
   "name": "python3"
  },
  "language_info": {
   "codemirror_mode": {
    "name": "ipython",
    "version": 3
   },
   "file_extension": ".py",
   "mimetype": "text/x-python",
   "name": "python",
   "nbconvert_exporter": "python",
   "pygments_lexer": "ipython3",
   "version": "3.13.5"
  }
 },
 "nbformat": 4,
 "nbformat_minor": 5
}
